{
  "nbformat": 4,
  "nbformat_minor": 0,
  "metadata": {
    "colab": {
      "name": "Dell Take Home - Boston Bombing Tweets.ipynb",
      "provenance": [],
      "authorship_tag": "ABX9TyPr9DiHfF3LVJSCuGBRFbq+",
      "include_colab_link": true
    },
    "kernelspec": {
      "name": "python3",
      "display_name": "Python 3"
    },
    "language_info": {
      "name": "python"
    }
  },
  "cells": [
    {
      "cell_type": "markdown",
      "metadata": {
        "id": "view-in-github",
        "colab_type": "text"
      },
      "source": [
        "<a href=\"https://colab.research.google.com/github/sandhyaparna/NLP/blob/main/Take%20Home%20Assignments/Dell_Boston_Bombing_Tweets.ipynb\" target=\"_parent\"><img src=\"https://colab.research.google.com/assets/colab-badge.svg\" alt=\"Open In Colab\"/></a>"
      ]
    },
    {
      "cell_type": "code",
      "metadata": {
        "id": "QWFnuA96u5IZ"
      },
      "source": [
        "import warnings\n",
        "warnings.simplefilter('ignore')"
      ],
      "execution_count": 2,
      "outputs": []
    },
    {
      "cell_type": "code",
      "metadata": {
        "id": "9rbhxdVC53R9"
      },
      "source": [
        "pd.set_option('display.max_columns', None)  # or 1000\n",
        "pd.set_option('display.max_rows', None)  # or 1000\n",
        "pd.set_option('display.max_colwidth', -1)"
      ],
      "execution_count": 45,
      "outputs": []
    },
    {
      "cell_type": "code",
      "metadata": {
        "id": "zkU5eu5jv-lm"
      },
      "source": [
        "# Import Libraries\n",
        "import pandas as pd\n",
        "import numpy as np\n",
        "import seaborn as sns\n",
        "import matplotlib.pyplot as plt\n",
        "import string, re, os\n",
        "from collections import defaultdict, Counter\n",
        "from nltk.corpus import stopwords"
      ],
      "execution_count": 65,
      "outputs": []
    },
    {
      "cell_type": "code",
      "metadata": {
        "colab": {
          "resources": {
            "http://localhost:8080/nbextensions/google.colab/files.js": {
              "data": "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",
              "ok": true,
              "headers": [
                [
                  "content-type",
                  "application/javascript"
                ]
              ],
              "status": 200,
              "status_text": ""
            }
          },
          "base_uri": "https://localhost:8080/",
          "height": 73
        },
        "id": "9DmFgWOYv-iq",
        "outputId": "223d5fa0-de00-46df-d2ba-c8dca696085a"
      },
      "source": [
        "# upload data \n",
        "from google.colab import files\n",
        "uploaded = files.upload()"
      ],
      "execution_count": 3,
      "outputs": [
        {
          "output_type": "display_data",
          "data": {
            "text/html": [
              "\n",
              "     <input type=\"file\" id=\"files-984ac9d3-9e9f-40a8-a018-0412f24909b8\" name=\"files[]\" multiple disabled\n",
              "        style=\"border:none\" />\n",
              "     <output id=\"result-984ac9d3-9e9f-40a8-a018-0412f24909b8\">\n",
              "      Upload widget is only available when the cell has been executed in the\n",
              "      current browser session. Please rerun this cell to enable.\n",
              "      </output>\n",
              "      <script src=\"/nbextensions/google.colab/files.js\"></script> "
            ],
            "text/plain": [
              "<IPython.core.display.HTML object>"
            ]
          },
          "metadata": {
            "tags": []
          }
        },
        {
          "output_type": "stream",
          "text": [
            "Saving boston_bombing_tweets - Home test Data Scientist.csv to boston_bombing_tweets - Home test Data Scientist.csv\n"
          ],
          "name": "stdout"
        }
      ]
    },
    {
      "cell_type": "code",
      "metadata": {
        "colab": {
          "base_uri": "https://localhost:8080/"
        },
        "id": "JFcW59dvv-ff",
        "outputId": "9af767d7-136f-48ef-fd37-5e2329409085"
      },
      "source": [
        "import io\n",
        "boston_bombing_tweets = pd.read_csv(io.BytesIO(uploaded['boston_bombing_tweets - Home test Data Scientist.csv']))\n",
        "print(f'Tweets data is loaded')"
      ],
      "execution_count": 4,
      "outputs": [
        {
          "output_type": "stream",
          "text": [
            "Tweets data is loaded\n"
          ],
          "name": "stdout"
        }
      ]
    },
    {
      "cell_type": "code",
      "metadata": {
        "colab": {
          "base_uri": "https://localhost:8080/",
          "height": 205
        },
        "id": "xB7q6J3Dw8nJ",
        "outputId": "c03d1686-b849-41c1-b1d8-e57456def6fb"
      },
      "source": [
        "boston_bombing_tweets.head()"
      ],
      "execution_count": 46,
      "outputs": [
        {
          "output_type": "execute_result",
          "data": {
            "text/html": [
              "<div>\n",
              "<style scoped>\n",
              "    .dataframe tbody tr th:only-of-type {\n",
              "        vertical-align: middle;\n",
              "    }\n",
              "\n",
              "    .dataframe tbody tr th {\n",
              "        vertical-align: top;\n",
              "    }\n",
              "\n",
              "    .dataframe thead th {\n",
              "        text-align: right;\n",
              "    }\n",
              "</style>\n",
              "<table border=\"1\" class=\"dataframe\">\n",
              "  <thead>\n",
              "    <tr style=\"text-align: right;\">\n",
              "      <th></th>\n",
              "      <th>text</th>\n",
              "      <th>label</th>\n",
              "    </tr>\n",
              "  </thead>\n",
              "  <tbody>\n",
              "    <tr>\n",
              "      <th>0</th>\n",
              "      <td>#Job #Boston Site Supervisor / Lead Carpenter: MA-Boston, We are currently seeking a Site Supervisor / Lead Ca... http://t.co/rEzfWIYIfy</td>\n",
              "      <td>NaN</td>\n",
              "    </tr>\n",
              "    <tr>\n",
              "      <th>1</th>\n",
              "      <td>RT @wilw NBC reporting suspect alive and in custody. CNN reporting that Quint, Sheriff Brody, unknown bearded man (poss terrorist?) still on boat.</td>\n",
              "      <td>1.0</td>\n",
              "    </tr>\n",
              "    <tr>\n",
              "      <th>2</th>\n",
              "      <td>#BostonMararthon suspect Dzhokhar Tsarnaev is in custody http://t.co/ubNR5Lreqv http://t.co/ax7bDCIXRH</td>\n",
              "      <td>1.0</td>\n",
              "    </tr>\n",
              "    <tr>\n",
              "      <th>3</th>\n",
              "      <td>THANK YOU ?MT @Boston_Police: CAPTURED! The hunt is over. The search is done. The terror is over. And justice has won. Suspect in custody.</td>\n",
              "      <td>NaN</td>\n",
              "    </tr>\n",
              "    <tr>\n",
              "      <th>4</th>\n",
              "      <td>RT @CNBCClosingBell The Boston College Center on Wealth &amp; Philanthropy says $59T will be pat down to children, charity, taxes, etc. @robtfrank with the story.</td>\n",
              "      <td>NaN</td>\n",
              "    </tr>\n",
              "  </tbody>\n",
              "</table>\n",
              "</div>"
            ],
            "text/plain": [
              "                                                                                                                                                             text  \\\n",
              "0  #Job #Boston Site Supervisor / Lead Carpenter: MA-Boston, We are currently seeking a Site Supervisor / Lead Ca... http://t.co/rEzfWIYIfy                         \n",
              "1  RT @wilw NBC reporting suspect alive and in custody. CNN reporting that Quint, Sheriff Brody, unknown bearded man (poss terrorist?) still on boat.               \n",
              "2  #BostonMararthon suspect Dzhokhar Tsarnaev is in custody http://t.co/ubNR5Lreqv http://t.co/ax7bDCIXRH                                                           \n",
              "3  THANK YOU ?MT @Boston_Police: CAPTURED! The hunt is over. The search is done. The terror is over. And justice has won. Suspect in custody.                       \n",
              "4  RT @CNBCClosingBell The Boston College Center on Wealth & Philanthropy says $59T will be pat down to children, charity, taxes, etc. @robtfrank with the story.   \n",
              "\n",
              "   label  \n",
              "0 NaN     \n",
              "1  1.0    \n",
              "2  1.0    \n",
              "3 NaN     \n",
              "4 NaN     "
            ]
          },
          "metadata": {
            "tags": []
          },
          "execution_count": 46
        }
      ]
    },
    {
      "cell_type": "code",
      "metadata": {
        "colab": {
          "base_uri": "https://localhost:8080/"
        },
        "id": "_nOQupF9v-cM",
        "outputId": "f3d0e822-3499-4364-d4f4-f99518b99afe"
      },
      "source": [
        "tweets_train = boston_bombing_tweets[pd.notnull(boston_bombing_tweets.label)]\n",
        "print(\"Number of observations in train data are\", tweets_train.shape[0])\n",
        "\n",
        "tweets_test = boston_bombing_tweets[pd.isnull(boston_bombing_tweets.label)]\n",
        "print(\"Number of observations in test data are\", tweets_test.shape[0])"
      ],
      "execution_count": 174,
      "outputs": [
        {
          "output_type": "stream",
          "text": [
            "Number of observations in train data are 4000\n",
            "Number of observations in test data are 12218\n"
          ],
          "name": "stdout"
        }
      ]
    },
    {
      "cell_type": "markdown",
      "metadata": {
        "id": "EmuE0FGuxloQ"
      },
      "source": [
        "### Explore train data\n",
        "* Train data contains equal number of 1s and 0s - Balanced data"
      ]
    },
    {
      "cell_type": "code",
      "metadata": {
        "id": "2ZfKo8q0xjSc",
        "outputId": "5a7c4bb0-d1f3-4a74-ea5b-dbce89f6e64e",
        "colab": {
          "base_uri": "https://localhost:8080/",
          "height": 295
        }
      },
      "source": [
        "label_graph = sns.countplot(y=\"label\", data=tweets_train)\n",
        "plt.title('Distribution of target')\n",
        "plt.xlabel('Count of tweets')\n",
        "\n",
        "total = len(tweets_train['label'])\n",
        "for p in label_graph.patches:\n",
        "        percentage = '{:.1f}%'.format(100 * p.get_width()/total)\n",
        "        x = p.get_x() + p.get_width() + 0.02\n",
        "        y = p.get_y() + p.get_height()/2\n",
        "        label_graph.annotate(percentage, (x, y))\n",
        "\n",
        "plt.show()"
      ],
      "execution_count": 33,
      "outputs": [
        {
          "output_type": "display_data",
          "data": {
            "image/png": "[encoded data removed]",
            "text/plain": [
              "<Figure size 432x288 with 1 Axes>"
            ]
          },
          "metadata": {
            "tags": [],
            "needs_background": "light"
          }
        }
      ]
    },
    {
      "cell_type": "code",
      "metadata": {
        "id": "mVqx148vxjFz",
        "outputId": "b3fe0586-76bc-4924-aff2-dc4b3337daff",
        "colab": {
          "base_uri": "https://localhost:8080/"
        }
      },
      "source": [
        "print('The no of duplicates in the data:',tweets_train[tweets_train.duplicated(subset = [\"text\"], keep=False)].shape[0])"
      ],
      "execution_count": 31,
      "outputs": [
        {
          "output_type": "stream",
          "text": [
            "The no of duplicates in the data: 0\n"
          ],
          "name": "stdout"
        }
      ]
    },
    {
      "cell_type": "code",
      "metadata": {
        "id": "SuypxY0r3och",
        "outputId": "f52610da-9c0c-4e40-b784-a93164774ea3",
        "colab": {
          "base_uri": "https://localhost:8080/"
        }
      },
      "source": [
        "print(\"Number of missing values in the train data for each column:\")\n",
        "tweets_train.isnull().sum()"
      ],
      "execution_count": 32,
      "outputs": [
        {
          "output_type": "stream",
          "text": [
            "Number of missing values in the train data for each column:\n"
          ],
          "name": "stdout"
        },
        {
          "output_type": "execute_result",
          "data": {
            "text/plain": [
              "text     0\n",
              "label    0\n",
              "dtype: int64"
            ]
          },
          "metadata": {
            "tags": []
          },
          "execution_count": 32
        }
      ]
    },
    {
      "cell_type": "code",
      "metadata": {
        "id": "vvYI6f0R4cWE",
        "outputId": "972f4fba-d564-4072-99fd-2f1ebc30f7af",
        "colab": {
          "base_uri": "https://localhost:8080/"
        }
      },
      "source": [
        "print(\"punctuations in string.punctuation\",string.punctuation) \n",
        "\n",
        "tweets_train['punctuations'] = tweets_train[\"text\"].apply(lambda x: re.findall('[%s]' % re.escape(string.punctuation),str(x)))  # Extracting any punctiations that in the variable column\n",
        "tweets_train['punctuations_str'] = [','.join(map(str, l)) for l in tweets_train['punctuations']]  # convert punctuations to strings\n",
        "punctuations_uq = set(','.join(tweets_train['punctuations_str'].apply(lambda x: str(x))))  # generates unique punctuations by creating a string from punctuations_str column generated\n",
        "list(punctuations_uq)"
      ],
      "execution_count": 55,
      "outputs": [
        {
          "output_type": "stream",
          "text": [
            "punctuations in string.punctuation !\"#$%&'()*+,-./:;<=>?@[\\]^_`{|}~\n"
          ],
          "name": "stdout"
        },
        {
          "output_type": "execute_result",
          "data": {
            "text/plain": [
              "['&',\n",
              " '*',\n",
              " '.',\n",
              " '/',\n",
              " '!',\n",
              " '^',\n",
              " '>',\n",
              " '_',\n",
              " ';',\n",
              " '-',\n",
              " '%',\n",
              " '#',\n",
              " ':',\n",
              " '|',\n",
              " '~',\n",
              " ')',\n",
              " '=',\n",
              " ']',\n",
              " ',',\n",
              " '\"',\n",
              " '@',\n",
              " '?',\n",
              " '$',\n",
              " '\\\\',\n",
              " \"'\",\n",
              " '<',\n",
              " '+',\n",
              " '(',\n",
              " '[']"
            ]
          },
          "metadata": {
            "tags": []
          },
          "execution_count": 55
        }
      ]
    },
    {
      "cell_type": "code",
      "metadata": {
        "id": "_5Wagf4C7xBi"
      },
      "source": [
        "tweets_train['punctuations_uq'] = tweets_train['punctuations'].apply(lambda x: set(x))"
      ],
      "execution_count": 53,
      "outputs": []
    },
    {
      "cell_type": "code",
      "metadata": {
        "id": "WSYNdKdF8JJb",
        "outputId": "e367f7c0-41da-4436-caef-46f8f1e4f787",
        "colab": {
          "base_uri": "https://localhost:8080/",
          "height": 291
        }
      },
      "source": [
        "tweets_train.head()"
      ],
      "execution_count": 54,
      "outputs": [
        {
          "output_type": "execute_result",
          "data": {
            "text/html": [
              "<div>\n",
              "<style scoped>\n",
              "    .dataframe tbody tr th:only-of-type {\n",
              "        vertical-align: middle;\n",
              "    }\n",
              "\n",
              "    .dataframe tbody tr th {\n",
              "        vertical-align: top;\n",
              "    }\n",
              "\n",
              "    .dataframe thead th {\n",
              "        text-align: right;\n",
              "    }\n",
              "</style>\n",
              "<table border=\"1\" class=\"dataframe\">\n",
              "  <thead>\n",
              "    <tr style=\"text-align: right;\">\n",
              "      <th></th>\n",
              "      <th>text</th>\n",
              "      <th>label</th>\n",
              "      <th>punctuations</th>\n",
              "      <th>punctuations_str</th>\n",
              "      <th>punctuations_uq</th>\n",
              "    </tr>\n",
              "  </thead>\n",
              "  <tbody>\n",
              "    <tr>\n",
              "      <th>1</th>\n",
              "      <td>RT @wilw NBC reporting suspect alive and in custody. CNN reporting that Quint, Sheriff Brody, unknown bearded man (poss terrorist?) still on boat.</td>\n",
              "      <td>1.0</td>\n",
              "      <td>[@, ., ,, ,, (, ?, ), .]</td>\n",
              "      <td>@,.,,,,,(,?,),.</td>\n",
              "      <td>{(, ., ,, @, ?, )}</td>\n",
              "    </tr>\n",
              "    <tr>\n",
              "      <th>2</th>\n",
              "      <td>#BostonMararthon suspect Dzhokhar Tsarnaev is in custody http://t.co/ubNR5Lreqv http://t.co/ax7bDCIXRH</td>\n",
              "      <td>1.0</td>\n",
              "      <td>[#, :, /, /, ., /, :, /, /, ., /]</td>\n",
              "      <td>#,:,/,/,.,/,:,/,/,.,/</td>\n",
              "      <td>{#, :, /, .}</td>\n",
              "    </tr>\n",
              "    <tr>\n",
              "      <th>6</th>\n",
              "      <td>RT @BreitbartNews Margaret Thatcher Remembered America in the Midst of Terror: President Barack Obama is fond of challenging Ame... http://t.co/3kdeg3ooAv</td>\n",
              "      <td>1.0</td>\n",
              "      <td>[@, :, ., ., ., :, /, /, ., /]</td>\n",
              "      <td>@,:,.,.,.,:,/,/,.,/</td>\n",
              "      <td>{:, ., @, /}</td>\n",
              "    </tr>\n",
              "    <tr>\n",
              "      <th>15</th>\n",
              "      <td>Spontaneous celebrations in streets of #Watertown #Boston. This is how my 91 yr old Dad describes V-E Day. One battle in War on Terror won.</td>\n",
              "      <td>1.0</td>\n",
              "      <td>[#, #, ., -, ., .]</td>\n",
              "      <td>#,#,.,-,.,.</td>\n",
              "      <td>{#, ., -}</td>\n",
              "    </tr>\n",
              "    <tr>\n",
              "      <th>25</th>\n",
              "      <td>#Bostonsgigs Looking for someone for dishwasher install (Charlestown, Ma) http://t.co/BJQpvI5MfQ #Boston</td>\n",
              "      <td>0.0</td>\n",
              "      <td>[#, (, ,, ), :, /, /, ., /, #]</td>\n",
              "      <td>#,(,,,),:,/,/,.,/,#</td>\n",
              "      <td>{(, ., /, ,, #, :, )}</td>\n",
              "    </tr>\n",
              "  </tbody>\n",
              "</table>\n",
              "</div>"
            ],
            "text/plain": [
              "                                                                                                                                                          text  \\\n",
              "1   RT @wilw NBC reporting suspect alive and in custody. CNN reporting that Quint, Sheriff Brody, unknown bearded man (poss terrorist?) still on boat.           \n",
              "2   #BostonMararthon suspect Dzhokhar Tsarnaev is in custody http://t.co/ubNR5Lreqv http://t.co/ax7bDCIXRH                                                       \n",
              "6   RT @BreitbartNews Margaret Thatcher Remembered America in the Midst of Terror: President Barack Obama is fond of challenging Ame... http://t.co/3kdeg3ooAv   \n",
              "15  Spontaneous celebrations in streets of #Watertown #Boston. This is how my 91 yr old Dad describes V-E Day. One battle in War on Terror won.                  \n",
              "25  #Bostonsgigs Looking for someone for dishwasher install (Charlestown, Ma) http://t.co/BJQpvI5MfQ #Boston                                                     \n",
              "\n",
              "    label                       punctuations       punctuations_str  \\\n",
              "1   1.0    [@, ., ,, ,, (, ?, ), .]           @,.,,,,,(,?,),.         \n",
              "2   1.0    [#, :, /, /, ., /, :, /, /, ., /]  #,:,/,/,.,/,:,/,/,.,/   \n",
              "6   1.0    [@, :, ., ., ., :, /, /, ., /]     @,:,.,.,.,:,/,/,.,/     \n",
              "15  1.0    [#, #, ., -, ., .]                 #,#,.,-,.,.             \n",
              "25  0.0    [#, (, ,, ), :, /, /, ., /, #]     #,(,,,),:,/,/,.,/,#     \n",
              "\n",
              "          punctuations_uq  \n",
              "1   {(, ., ,, @, ?, )}     \n",
              "2   {#, :, /, .}           \n",
              "6   {:, ., @, /}           \n",
              "15  {#, ., -}              \n",
              "25  {(, ., /, ,, #, :, )}  "
            ]
          },
          "metadata": {
            "tags": []
          },
          "execution_count": 54
        }
      ]
    },
    {
      "cell_type": "code",
      "metadata": {
        "id": "Oz2LINxp9Vrk"
      },
      "source": [
        "def create_corpus(target):\n",
        "    corpus=[]\n",
        "    \n",
        "    for x in tweets_train[tweets_train['label']==target]['Text_Var'].str.split():\n",
        "        for i in x:\n",
        "            corpus.append(i)\n",
        "    return corpus"
      ],
      "execution_count": 295,
      "outputs": []
    },
    {
      "cell_type": "code",
      "metadata": {
        "id": "oFhywDtV8L5u",
        "outputId": "81bb6fbd-8261-41cd-c743-ea201baeb6b6",
        "colab": {
          "base_uri": "https://localhost:8080/",
          "height": 337
        }
      },
      "source": [
        "# Analyzing punctuations in label=1\n",
        "plt.figure(figsize=(10,5))\n",
        "corpus=create_corpus(1)\n",
        "\n",
        "dic=defaultdict(int)\n",
        "import string\n",
        "special = string.punctuation\n",
        "for i in (corpus):\n",
        "    if i in special:\n",
        "        dic[i]+=1\n",
        "        \n",
        "x,y=zip(*dic.items())\n",
        "plt.bar(x,y)"
      ],
      "execution_count": 59,
      "outputs": [
        {
          "output_type": "execute_result",
          "data": {
            "text/plain": [
              "<BarContainer object of 16 artists>"
            ]
          },
          "metadata": {
            "tags": []
          },
          "execution_count": 59
        },
        {
          "output_type": "display_data",
          "data": {
            "image/png": "[encoded data removed]",
            "text/plain": [
              "<Figure size 720x360 with 1 Axes>"
            ]
          },
          "metadata": {
            "tags": [],
            "needs_background": "light"
          }
        }
      ]
    },
    {
      "cell_type": "code",
      "metadata": {
        "id": "Y2yWOOiA9vCv",
        "outputId": "56a989ed-96bd-428d-dc5b-d89e9ae0227f",
        "colab": {
          "base_uri": "https://localhost:8080/",
          "height": 337
        }
      },
      "source": [
        "# Analyzing punctuations in label=0\n",
        "plt.figure(figsize=(10,5))\n",
        "corpus=create_corpus(0)\n",
        "\n",
        "dic=defaultdict(int)\n",
        "import string\n",
        "special = string.punctuation\n",
        "for i in (corpus):\n",
        "    if i in special:\n",
        "        dic[i]+=1\n",
        "        \n",
        "x,y=zip(*dic.items())\n",
        "plt.bar(x,y)"
      ],
      "execution_count": 60,
      "outputs": [
        {
          "output_type": "execute_result",
          "data": {
            "text/plain": [
              "<BarContainer object of 19 artists>"
            ]
          },
          "metadata": {
            "tags": []
          },
          "execution_count": 60
        },
        {
          "output_type": "display_data",
          "data": {
            "image/png": "[encoded data removed]",
            "text/plain": [
              "<Figure size 720x360 with 1 Axes>"
            ]
          },
          "metadata": {
            "tags": [],
            "needs_background": "light"
          }
        }
      ]
    },
    {
      "cell_type": "code",
      "metadata": {
        "id": "C3fWw7d8-Rc9",
        "outputId": "1cf497b1-67c8-4be2-e159-48dd0e3f7ad5",
        "colab": {
          "base_uri": "https://localhost:8080/"
        }
      },
      "source": [
        "import nltk\n",
        "nltk.download('stopwords')"
      ],
      "execution_count": 67,
      "outputs": [
        {
          "output_type": "stream",
          "text": [
            "[nltk_data] Downloading package stopwords to /root/nltk_data...\n",
            "[nltk_data]   Unzipping corpora/stopwords.zip.\n"
          ],
          "name": "stdout"
        },
        {
          "output_type": "execute_result",
          "data": {
            "text/plain": [
              "True"
            ]
          },
          "metadata": {
            "tags": []
          },
          "execution_count": 67
        }
      ]
    },
    {
      "cell_type": "code",
      "metadata": {
        "id": "xgWY6zoY9vAR",
        "outputId": "e262620c-1fce-471f-cd80-f9b45ab71b57",
        "colab": {
          "base_uri": "https://localhost:8080/",
          "height": 629
        }
      },
      "source": [
        "corpus=create_corpus(1)\n",
        "stop=set(stopwords.words('english'))\n",
        "\n",
        "counter=Counter(corpus)\n",
        "most=counter.most_common()\n",
        "x=[]\n",
        "y=[]\n",
        "for word,count in most[:50]:\n",
        "    if (word not in stop) :\n",
        "        x.append(word)\n",
        "        y.append(count)\n",
        "\n",
        "sns.barplot(x=y,y=x)\n",
        "plt.figure(figsize=(10, 5))\n",
        "plt.show()"
      ],
      "execution_count": 333,
      "outputs": [
        {
          "output_type": "display_data",
          "data": {
            "image/png": "[encoded data removed]",
            "text/plain": [
              "<Figure size 7200x720 with 1 Axes>"
            ]
          },
          "metadata": {
            "tags": [],
            "needs_background": "light"
          }
        },
        {
          "output_type": "display_data",
          "data": {
            "text/plain": [
              "<Figure size 720x360 with 0 Axes>"
            ]
          },
          "metadata": {
            "tags": []
          }
        }
      ]
    },
    {
      "cell_type": "code",
      "metadata": {
        "id": "SMGXX9Ebr-3D",
        "outputId": "3de0c344-bb3e-4c80-ec16-ddff3547e390",
        "colab": {
          "base_uri": "https://localhost:8080/",
          "height": 629
        }
      },
      "source": [
        "corpus=create_corpus(0)\n",
        "stop=set(stopwords.words('english'))\n",
        "\n",
        "counter=Counter(corpus)\n",
        "most=counter.most_common()\n",
        "x=[]\n",
        "y=[]\n",
        "for word,count in most[:50]:\n",
        "    if (word not in stop) :\n",
        "        x.append(word)\n",
        "        y.append(count)\n",
        "\n",
        "sns.barplot(x=y,y=x)\n",
        "plt.figure(figsize=(10, 5))\n",
        "plt.show()"
      ],
      "execution_count": 334,
      "outputs": [
        {
          "output_type": "display_data",
          "data": {
            "image/png": "[encoded data removed]",
            "text/plain": [
              "<Figure size 7200x720 with 1 Axes>"
            ]
          },
          "metadata": {
            "tags": [],
            "needs_background": "light"
          }
        },
        {
          "output_type": "display_data",
          "data": {
            "text/plain": [
              "<Figure size 720x360 with 0 Axes>"
            ]
          },
          "metadata": {
            "tags": []
          }
        }
      ]
    },
    {
      "cell_type": "code",
      "metadata": {
        "id": "XGaVDZ0wC1Mr"
      },
      "source": [
        "print()\n",
        "tweets_train['URL_present'] = np.where(tweets_train['text'].str.contains(\"http://\"),1,0)\n",
        "pd.crosstab(tweets_train[\"label\"],tweets_train['URL_present'])"
      ],
      "execution_count": 80,
      "outputs": []
    },
    {
      "cell_type": "code",
      "metadata": {
        "id": "ndnBp1_lCUvD",
        "outputId": "cf5f54ea-1f7b-4ead-9e17-02d91922a31f",
        "colab": {
          "base_uri": "https://localhost:8080/",
          "height": 143
        }
      },
      "source": [
        "tweets_train['RT_present'] = np.where(tweets_train.text.str.split().str[0] == \"RT\",1, 0)\n",
        "pd.crosstab(tweets_train[\"label\"],tweets_train['RT_present'])"
      ],
      "execution_count": 98,
      "outputs": [
        {
          "output_type": "execute_result",
          "data": {
            "text/html": [
              "<div>\n",
              "<style scoped>\n",
              "    .dataframe tbody tr th:only-of-type {\n",
              "        vertical-align: middle;\n",
              "    }\n",
              "\n",
              "    .dataframe tbody tr th {\n",
              "        vertical-align: top;\n",
              "    }\n",
              "\n",
              "    .dataframe thead th {\n",
              "        text-align: right;\n",
              "    }\n",
              "</style>\n",
              "<table border=\"1\" class=\"dataframe\">\n",
              "  <thead>\n",
              "    <tr style=\"text-align: right;\">\n",
              "      <th>RT_present</th>\n",
              "      <th>0</th>\n",
              "      <th>1</th>\n",
              "    </tr>\n",
              "    <tr>\n",
              "      <th>label</th>\n",
              "      <th></th>\n",
              "      <th></th>\n",
              "    </tr>\n",
              "  </thead>\n",
              "  <tbody>\n",
              "    <tr>\n",
              "      <th>0.0</th>\n",
              "      <td>1582</td>\n",
              "      <td>418</td>\n",
              "    </tr>\n",
              "    <tr>\n",
              "      <th>1.0</th>\n",
              "      <td>1062</td>\n",
              "      <td>938</td>\n",
              "    </tr>\n",
              "  </tbody>\n",
              "</table>\n",
              "</div>"
            ],
            "text/plain": [
              "RT_present     0    1\n",
              "label                \n",
              "0.0         1582  418\n",
              "1.0         1062  938"
            ]
          },
          "metadata": {
            "tags": []
          },
          "execution_count": 98
        }
      ]
    },
    {
      "cell_type": "code",
      "metadata": {
        "id": "xYBtKEieIaFj"
      },
      "source": [
        "def find_hash(text):\n",
        "    line=re.findall(r'(?<=#)\\w+',text)\n",
        "    return \" \".join(line)\n",
        "tweets_train['hash']=tweets_train['Text_Var'].apply(lambda x:find_hash(x))\n",
        "temp=tweets_train['hash'].value_counts()[:][1:20]\n",
        "temp= temp.to_frame().reset_index().rename(columns={'index':'Hashtag','hash':'count'})\n",
        "sns.barplot(x=\"Hashtag\",y=\"count\", data = temp)\n",
        "plt.xticks(rotation=70)\n",
        "plt.tight_layout()\n"
      ],
      "execution_count": null,
      "outputs": []
    },
    {
      "cell_type": "code",
      "metadata": {
        "id": "SEaiWre5ObEL",
        "outputId": "4056b143-b0fb-43bf-e0f1-137c5223454b",
        "colab": {
          "base_uri": "https://localhost:8080/"
        }
      },
      "source": [
        "def find_hash(text):\n",
        "    line=re.findall(r'(?<=#)\\w+',text)\n",
        "    return \" \".join(line)\n",
        "tweets_train['hash']=tweets_train['Text_Var'].apply(lambda x:find_hash(x))\n",
        "temp=tweets_train['hash'].value_counts()[:][1:500]\n",
        "temp= temp.to_frame().reset_index().rename(columns={'index':'Hashtag','hash':'count'})\n",
        "\n",
        "temp_corpus = []\n",
        "for x in temp['Hashtag'].str.split():\n",
        "    for i in x:\n",
        "        temp_corpus.append(i)\n",
        "cnt = 0\n",
        "for i, j in dict(Counter(temp_corpus)).items():\n",
        "  if j>=2:\n",
        "    cnt += 1\n",
        "    print(i,j)\n",
        "\n",
        "print(cnt)"
      ],
      "execution_count": 356,
      "outputs": [
        {
          "output_type": "stream",
          "text": [
            "prayforboston 113\n",
            "watertown 71\n",
            "boston 180\n",
            "job 13\n",
            "jobs 11\n",
            "news 6\n",
            "bos 2\n",
            "ma 7\n",
            "bostonmarathon 37\n",
            "cambridge 5\n",
            "manhunt 18\n",
            "bostonstrong 31\n",
            "bruins 6\n",
            "nhl 2\n",
            "bostonbombings 7\n",
            "massachusetts 2\n",
            "wbz 7\n",
            "bpd 2\n",
            "scanner 2\n",
            "wcvb 7\n",
            "prayfortexas 7\n",
            "celtics 8\n",
            "basketball 4\n",
            "nba 7\n",
            "collectibles 2\n",
            "redsox 12\n",
            "arena 2\n",
            "deals 4\n",
            "oneboston 4\n",
            "bosnow 4\n",
            "breaking 3\n",
            "mlb 5\n",
            "tickets 2\n",
            "ticket 2\n",
            "mbta 6\n",
            "tbt 2\n",
            "bostonmanhunt 4\n",
            "mitshooting 4\n",
            "fbi 3\n",
            "dzhokhar 3\n",
            "bostonbombing 8\n",
            "usa 2\n",
            "tsarnaev 3\n",
            "np 2\n",
            "marathon 3\n",
            "breakingnews 2\n",
            "prayfortheworld 2\n",
            "presidentobama 2\n",
            "brookline 2\n",
            "class 2\n",
            "fashion 2\n",
            "backbay 2\n",
            "beaconhill 2\n",
            "hometown 2\n",
            "prayersforboston 2\n",
            "prayformycity 2\n",
            "travel 2\n",
            "musicmonday 2\n",
            "peace 2\n",
            "love 4\n",
            "prayingforboston 2\n",
            "weareboston 6\n",
            "rip 3\n",
            "runforboston 3\n",
            "music 5\n",
            "radio 2\n",
            "live 2\n",
            "talk 3\n",
            "wemf 3\n",
            "songs 2\n",
            "dreams 2\n",
            "hope 2\n",
            "cre 2\n",
            "startup 2\n",
            "standtogether 2\n",
            "dzhokhartsarnaev 2\n",
            "bostonmararthon 2\n",
            "tech 2\n",
            "events 2\n",
            "interfaith 2\n",
            "bostonyouremyhome 2\n",
            "obama 2\n",
            "runners 2\n",
            "weather 4\n",
            "mawx 2\n",
            "sales 2\n",
            "proud 2\n",
            "bostonhiphop 2\n",
            "bostonrap 2\n",
            "myhome 2\n",
            "hiphop 2\n",
            "nightlife 2\n",
            "snow 2\n",
            "history 2\n",
            "prayformit 2\n",
            "trndnl 2\n",
            "bostonpride 2\n",
            "dorchester 2\n",
            "running 2\n",
            "boat 2\n",
            "baseball 2\n",
            "cowards 2\n",
            "102\n"
          ],
          "name": "stdout"
        }
      ]
    },
    {
      "cell_type": "code",
      "metadata": {
        "id": "ZygCRdHtIaCq",
        "outputId": "c7dd7098-3e57-44de-a9a0-874d8322f429",
        "colab": {
          "base_uri": "https://localhost:8080/",
          "height": 629
        }
      },
      "source": [
        "def find_hash(text):\n",
        "    line=re.findall(r'(?<=#)\\w+',text)\n",
        "    return \" \".join(line)\n",
        "tweets_train['hash']=tweets_train['Text_Var'].apply(lambda x:find_hash(x))\n",
        "\n",
        "# Extract hashtags\n",
        "hash_corpus = []\n",
        "for x in tweets_train[tweets_train.label==1]['hash'].str.split():\n",
        "    for i in x:\n",
        "        hash_corpus.append(i)\n",
        "        \n",
        "hash_corpus_counter = Counter(hash_corpus)\n",
        "most=hash_corpus_counter.most_common()\n",
        "x=[]\n",
        "y=[]\n",
        "for word,count in most[:50]:\n",
        "    if (word not in stop) :\n",
        "        x.append(word)\n",
        "        y.append(count)\n",
        "\n",
        "sns.barplot(x=y,y=x)\n",
        "plt.figure(figsize=(25, 5))\n",
        "plt.show()"
      ],
      "execution_count": 215,
      "outputs": [
        {
          "output_type": "display_data",
          "data": {
            "image/png": "[encoded data removed]",
            "text/plain": [
              "<Figure size 7200x720 with 1 Axes>"
            ]
          },
          "metadata": {
            "tags": [],
            "needs_background": "light"
          }
        },
        {
          "output_type": "display_data",
          "data": {
            "text/plain": [
              "<Figure size 1800x360 with 0 Axes>"
            ]
          },
          "metadata": {
            "tags": []
          }
        }
      ]
    },
    {
      "cell_type": "code",
      "metadata": {
        "id": "4vjKtTtVIaAC",
        "outputId": "da370ef4-f0f8-4681-c07c-66e4f20f6c6e",
        "colab": {
          "base_uri": "https://localhost:8080/",
          "height": 629
        }
      },
      "source": [
        "# Extract hashtags\n",
        "hash_corpus = []\n",
        "for x in tweets_train['hash'].str.split():\n",
        "    for i in x:\n",
        "        hash_corpus.append(i)\n",
        "        \n",
        "hash_corpus_counter = Counter(hash_corpus)\n",
        "most=hash_corpus_counter.most_common()\n",
        "x=[]\n",
        "y=[]\n",
        "for word,count in most[:10]:\n",
        "    if (word not in stop) :\n",
        "        x.append(word)\n",
        "        y.append(count)\n",
        "\n",
        "sns.barplot(x=y,y=x)\n",
        "plt.figure(figsize=(10, 5))\n",
        "plt.show()"
      ],
      "execution_count": 161,
      "outputs": [
        {
          "output_type": "display_data",
          "data": {
            "image/png": "[encoded data removed]",
            "text/plain": [
              "<Figure size 7200x720 with 1 Axes>"
            ]
          },
          "metadata": {
            "tags": [],
            "needs_background": "light"
          }
        },
        {
          "output_type": "display_data",
          "data": {
            "text/plain": [
              "<Figure size 720x360 with 0 Axes>"
            ]
          },
          "metadata": {
            "tags": []
          }
        }
      ]
    },
    {
      "cell_type": "code",
      "metadata": {
        "id": "LrTb4XNZIZ82"
      },
      "source": [
        ""
      ],
      "execution_count": null,
      "outputs": []
    },
    {
      "cell_type": "code",
      "metadata": {
        "id": "cyAA-hJbIZ5y"
      },
      "source": [
        ""
      ],
      "execution_count": null,
      "outputs": []
    },
    {
      "cell_type": "code",
      "metadata": {
        "id": "T1DFGIt6CUx7",
        "outputId": "4cfb596a-57c0-4dc3-9239-87c4767485c5",
        "colab": {
          "base_uri": "https://localhost:8080/",
          "height": 550
        }
      },
      "source": [
        "tweets_train.head(10)"
      ],
      "execution_count": 332,
      "outputs": [
        {
          "output_type": "execute_result",
          "data": {
            "text/html": [
              "<div>\n",
              "<style scoped>\n",
              "    .dataframe tbody tr th:only-of-type {\n",
              "        vertical-align: middle;\n",
              "    }\n",
              "\n",
              "    .dataframe tbody tr th {\n",
              "        vertical-align: top;\n",
              "    }\n",
              "\n",
              "    .dataframe thead th {\n",
              "        text-align: right;\n",
              "    }\n",
              "</style>\n",
              "<table border=\"1\" class=\"dataframe\">\n",
              "  <thead>\n",
              "    <tr style=\"text-align: right;\">\n",
              "      <th></th>\n",
              "      <th>text</th>\n",
              "      <th>label</th>\n",
              "      <th>Text_Var</th>\n",
              "      <th>hash</th>\n",
              "      <th>chk</th>\n",
              "    </tr>\n",
              "  </thead>\n",
              "  <tbody>\n",
              "    <tr>\n",
              "      <th>1</th>\n",
              "      <td>RT @wilw NBC reporting suspect alive and in custody. CNN reporting that Quint, Sheriff Brody, unknown bearded man (poss terrorist?) still on boat.</td>\n",
              "      <td>1.0</td>\n",
              "      <td>nbc reporting suspect alive custody cnn reporting quint sheriff brody unknown bearded man poss terrorist still boat</td>\n",
              "      <td></td>\n",
              "      <td>[]</td>\n",
              "    </tr>\n",
              "    <tr>\n",
              "      <th>2</th>\n",
              "      <td>#BostonMararthon suspect Dzhokhar Tsarnaev is in custody http://t.co/ubNR5Lreqv http://t.co/ax7bDCIXRH</td>\n",
              "      <td>1.0</td>\n",
              "      <td>#bostonmararthon suspect dzhokhar tsarnaev custody</td>\n",
              "      <td>bostonmararthon</td>\n",
              "      <td>[]</td>\n",
              "    </tr>\n",
              "    <tr>\n",
              "      <th>6</th>\n",
              "      <td>RT @BreitbartNews Margaret Thatcher Remembered America in the Midst of Terror: President Barack Obama is fond of challenging Ame... http://t.co/3kdeg3ooAv</td>\n",
              "      <td>1.0</td>\n",
              "      <td>margaret thatcher remembered america midst terror president barack obama fond challenging ame</td>\n",
              "      <td></td>\n",
              "      <td>[]</td>\n",
              "    </tr>\n",
              "    <tr>\n",
              "      <th>15</th>\n",
              "      <td>Spontaneous celebrations in streets of #Watertown #Boston. This is how my 91 yr old Dad describes V-E Day. One battle in War on Terror won.</td>\n",
              "      <td>1.0</td>\n",
              "      <td>spontaneous celebrations streets #watertown #boston  yr old dad describes day one battle war terror</td>\n",
              "      <td>watertown boston</td>\n",
              "      <td>[]</td>\n",
              "    </tr>\n",
              "    <tr>\n",
              "      <th>25</th>\n",
              "      <td>#Bostonsgigs Looking for someone for dishwasher install (Charlestown, Ma) http://t.co/BJQpvI5MfQ #Boston</td>\n",
              "      <td>0.0</td>\n",
              "      <td>#bostonsgigs looking someone dishwasher install charlestown  #boston</td>\n",
              "      <td>bostonsgigs boston</td>\n",
              "      <td>[]</td>\n",
              "    </tr>\n",
              "    <tr>\n",
              "      <th>27</th>\n",
              "      <td>Suspect #2 is in custody.. Putting him in the ambulance #Boston #watertown</td>\n",
              "      <td>1.0</td>\n",
              "      <td>suspect custody putting ambulance #boston #watertown</td>\n",
              "      <td>2 boston watertown</td>\n",
              "      <td>[]</td>\n",
              "    </tr>\n",
              "    <tr>\n",
              "      <th>28</th>\n",
              "      <td>#Job #Cambridge Secret shopper position: Boston Dear Shoppers! We are accepting applications from qualified in... http://t.co/i7N4HWSH2L</td>\n",
              "      <td>0.0</td>\n",
              "      <td>#job #cambridge secret shopper position boston dear shoppers accepting applications qualified</td>\n",
              "      <td>job cambridge</td>\n",
              "      <td>[]</td>\n",
              "    </tr>\n",
              "    <tr>\n",
              "      <th>37</th>\n",
              "      <td>Boston bombs a ?sophisticated? attack http://t.co/50BTutzAR9</td>\n",
              "      <td>1.0</td>\n",
              "      <td>boston bombs sophisticated attack</td>\n",
              "      <td></td>\n",
              "      <td>[]</td>\n",
              "    </tr>\n",
              "    <tr>\n",
              "      <th>42</th>\n",
              "      <td>RT @seankerrigan21 Let's not forget what makes this such a great country: things like due process &amp; innocence until proven guilty. #watertown #bostonstrong</td>\n",
              "      <td>1.0</td>\n",
              "      <td>let us forget makes great country things like due process  innocence proven guilty #watertown #bostonstrong</td>\n",
              "      <td>watertown bostonstrong</td>\n",
              "      <td>[('et', 's')]</td>\n",
              "    </tr>\n",
              "    <tr>\n",
              "      <th>44</th>\n",
              "      <td>RT @MattBinder If they never find Dzhokhar Tsarnaev, does Boston just shut down forever?</td>\n",
              "      <td>1.0</td>\n",
              "      <td>never find dzhokhar tsarnaev boston shut forever</td>\n",
              "      <td></td>\n",
              "      <td>[]</td>\n",
              "    </tr>\n",
              "  </tbody>\n",
              "</table>\n",
              "</div>"
            ],
            "text/plain": [
              "                                                                                                                                                           text  \\\n",
              "1   RT @wilw NBC reporting suspect alive and in custody. CNN reporting that Quint, Sheriff Brody, unknown bearded man (poss terrorist?) still on boat.            \n",
              "2   #BostonMararthon suspect Dzhokhar Tsarnaev is in custody http://t.co/ubNR5Lreqv http://t.co/ax7bDCIXRH                                                        \n",
              "6   RT @BreitbartNews Margaret Thatcher Remembered America in the Midst of Terror: President Barack Obama is fond of challenging Ame... http://t.co/3kdeg3ooAv    \n",
              "15  Spontaneous celebrations in streets of #Watertown #Boston. This is how my 91 yr old Dad describes V-E Day. One battle in War on Terror won.                   \n",
              "25  #Bostonsgigs Looking for someone for dishwasher install (Charlestown, Ma) http://t.co/BJQpvI5MfQ #Boston                                                      \n",
              "27  Suspect #2 is in custody.. Putting him in the ambulance #Boston #watertown                                                                                    \n",
              "28  #Job #Cambridge Secret shopper position: Boston Dear Shoppers! We are accepting applications from qualified in... http://t.co/i7N4HWSH2L                      \n",
              "37  Boston bombs a ?sophisticated? attack http://t.co/50BTutzAR9                                                                                                  \n",
              "42  RT @seankerrigan21 Let's not forget what makes this such a great country: things like due process & innocence until proven guilty. #watertown #bostonstrong   \n",
              "44  RT @MattBinder If they never find Dzhokhar Tsarnaev, does Boston just shut down forever?                                                                      \n",
              "\n",
              "    label  \\\n",
              "1   1.0     \n",
              "2   1.0     \n",
              "6   1.0     \n",
              "15  1.0     \n",
              "25  0.0     \n",
              "27  1.0     \n",
              "28  0.0     \n",
              "37  1.0     \n",
              "42  1.0     \n",
              "44  1.0     \n",
              "\n",
              "                                                                                                                Text_Var  \\\n",
              "1    nbc reporting suspect alive custody cnn reporting quint sheriff brody unknown bearded man poss terrorist still boat   \n",
              "2   #bostonmararthon suspect dzhokhar tsarnaev custody                                                                     \n",
              "6    margaret thatcher remembered america midst terror president barack obama fond challenging ame                         \n",
              "15  spontaneous celebrations streets #watertown #boston  yr old dad describes day one battle war terror                    \n",
              "25  #bostonsgigs looking someone dishwasher install charlestown  #boston                                                   \n",
              "27  suspect custody putting ambulance #boston #watertown                                                                   \n",
              "28  #job #cambridge secret shopper position boston dear shoppers accepting applications qualified                          \n",
              "37  boston bombs sophisticated attack                                                                                      \n",
              "42   let us forget makes great country things like due process  innocence proven guilty #watertown #bostonstrong           \n",
              "44   never find dzhokhar tsarnaev boston shut forever                                                                      \n",
              "\n",
              "                      hash            chk  \n",
              "1                           []             \n",
              "2   bostonmararthon         []             \n",
              "6                           []             \n",
              "15  watertown boston        []             \n",
              "25  bostonsgigs boston      []             \n",
              "27  2 boston watertown      []             \n",
              "28  job cambridge           []             \n",
              "37                          []             \n",
              "42  watertown bostonstrong  [('et', 's')]  \n",
              "44                          []             "
            ]
          },
          "metadata": {
            "tags": []
          },
          "execution_count": 332
        }
      ]
    },
    {
      "cell_type": "code",
      "metadata": {
        "id": "nGRT3IQ3CUo9",
        "outputId": "ce548525-a097-4f9a-e384-ea253da75297",
        "colab": {
          "base_uri": "https://localhost:8080/"
        }
      },
      "source": [
        "tweets_train['chk']=tweets_train['text'].apply(lambda x: re.findall(r\"([a-z]+)'(s)\",str(x)))\n",
        "tweets_train['chk'] = tweets_train['chk'].astype(str)\n",
        "check = tweets_train[tweets_train['chk'] != '[]']\n",
        "check.shape"
      ],
      "execution_count": 306,
      "outputs": [
        {
          "output_type": "execute_result",
          "data": {
            "text/plain": [
              "(438, 5)"
            ]
          },
          "metadata": {
            "tags": []
          },
          "execution_count": 306
        }
      ]
    },
    {
      "cell_type": "code",
      "metadata": {
        "id": "9IZ3lQfNHXHO"
      },
      "source": [
        "check.head(20)"
      ],
      "execution_count": null,
      "outputs": []
    },
    {
      "cell_type": "code",
      "metadata": {
        "id": "8_23DfEyCUl9"
      },
      "source": [
        "print(pd.value_counts(check.label))\n",
        "# check.head(20)\n",
        "corpus_chk = []\n",
        "for x in tweets_train[tweets_train.label==1]['chk'].str.split():\n",
        "    for i in x:\n",
        "        corpus_chk.append(i)\n",
        "        \n",
        "Counter(corpus_chk)"
      ],
      "execution_count": null,
      "outputs": []
    },
    {
      "cell_type": "markdown",
      "metadata": {
        "id": "mT3BUL8S8pPE"
      },
      "source": [
        "### Data pre-processing\n",
        "* Remove the word \"RT \", if it is at the beginning of the text\n",
        "* "
      ]
    },
    {
      "cell_type": "code",
      "metadata": {
        "id": "_mFMJPqEIgf7"
      },
      "source": [
        "def replace_all(text, dic=replacements_dict):\n",
        "    for i, j in dic.items():\n",
        "        text = re.sub(i, j, text)\n",
        "    return text\n",
        "# replace text column by using contractions_dict & replace_all function\n",
        "tweets_train['Text_Var'] = tweets_train['text'].str.lower()\n",
        "tweets_train['Text_Var'] = tweets_train['Text_Var'].apply(lambda x: replace_all(x,replacements_dict))\n",
        "\n",
        "stop_words = stopwords.words('english')\n",
        "more_stopwords = ['i']\n",
        "stop_words = stop_words + more_stopwords\n",
        "    \n",
        "def text_preprocess(text):\n",
        "  '''remove the word 'rt @', make text lowercase, remove links, \n",
        "     remove mentions of username,\n",
        "     remove punctuation except #,\n",
        "    and remove words containing numbers.'''\n",
        "  text = re.sub('[%s]' % re.escape(string.punctuation.replace('#','')), '', text)\n",
        "  text = re.sub('^# |# ', '', text)\n",
        "  text = re.sub('[^\\u0000-\\u007e]+', '', text)\n",
        "  text = ' '.join(word for word in text.split(' ') if word not in stop_words)\n",
        "  return text\n",
        "  \n",
        "# tweets_train['Text_Var'] = tweets_train['Text_Var'].apply(lambda x: ' '.join(word for word in x.split(' ') if word not in stop_words))\n",
        "tweets_train[\"Text_Var\"] = tweets_train[\"Text_Var\"].apply(text_preprocess)"
      ],
      "execution_count": 331,
      "outputs": []
    },
    {
      "cell_type": "code",
      "metadata": {
        "id": "p3WjN3GdyFbN"
      },
      "source": [
        "\n",
        "\n",
        "def text_preprocess(text):\n",
        "  '''remove the word 'RT @', make text lowercase, remove links, \n",
        "     remove mentions of username,\n",
        "     remove punctuation except #,\n",
        "    and remove words containing numbers.'''\n",
        "  text = re.sub('RT @', '@', text)\n",
        "  text = str(text).lower()\n",
        "  text = re.sub('https?://\\S+|www\\.\\S+', '', text)\n",
        "  text = re.sub('(?<=)@\\w+', '', text)\n",
        "  text = re.sub('[%s]' % re.escape(string.punctuation.replace('#','')), '', text)\n",
        "  text = ' '.join(word for word in text.split(' ') if word not in stop_words)\n",
        "  text = re.sub('([a-z]+\\d+[a-z]+\\d+[a-z]+)|(\\d+[a-z]+\\d+[a-z]+\\d+)|([a-z]+\\d+[a-z]+\\d+)|(\\d+[a-z]+\\d+[a-z]+)|(\\d+[a-z]+\\d+)|([a-z]+\\d+[a-z]+)|([a-z]+\\d+)|(\\d+[a-z]+)|\\d+', '', text)\n",
        "  return text"
      ],
      "execution_count": 301,
      "outputs": []
    },
    {
      "cell_type": "code",
      "metadata": {
        "id": "tza_qbMx0MN4"
      },
      "source": [
        "tweets_train[\"Text_Var\"] = tweets_train[\"text\"].apply(text_preprocess)"
      ],
      "execution_count": 302,
      "outputs": []
    },
    {
      "cell_type": "markdown",
      "metadata": {
        "id": "He0mRD7AKWqA"
      },
      "source": [
        ""
      ]
    },
    {
      "cell_type": "code",
      "metadata": {
        "id": "s01_r9O68L8o"
      },
      "source": [
        "tweets_train[\"Text_Var\"] = tweets_train[\"text\"].str.replace(r'RT @', '@')\n",
        "tweets_train[\"Text_Var\"] = tweets_train[\"Text_Var\"].str.replace(r'https?://\\S+|www\\.\\S+', '')\n",
        "tweets_train[\"Text_Var\"] = tweets_train[\"Text_Var\"].str.replace(r'(?<=)@\\w+', '')\n",
        "\n"
      ],
      "execution_count": 123,
      "outputs": []
    },
    {
      "cell_type": "code",
      "metadata": {
        "id": "REieNc8Y8MCg"
      },
      "source": [
        "# length of the text\n",
        "tweets_train[\"Text_Length\"] = tweets_train[\"Text_Var\"].str.len()"
      ],
      "execution_count": 148,
      "outputs": []
    },
    {
      "cell_type": "code",
      "metadata": {
        "id": "ulbye48c8MIp",
        "outputId": "4a10b7b1-4f9e-430a-b228-677ed6492f2f",
        "colab": {
          "base_uri": "https://localhost:8080/",
          "height": 654
        }
      },
      "source": [
        "tweets_train[[\"text\",\"Text_Var\"]].head(15)"
      ],
      "execution_count": 124,
      "outputs": [
        {
          "output_type": "execute_result",
          "data": {
            "text/html": [
              "<div>\n",
              "<style scoped>\n",
              "    .dataframe tbody tr th:only-of-type {\n",
              "        vertical-align: middle;\n",
              "    }\n",
              "\n",
              "    .dataframe tbody tr th {\n",
              "        vertical-align: top;\n",
              "    }\n",
              "\n",
              "    .dataframe thead th {\n",
              "        text-align: right;\n",
              "    }\n",
              "</style>\n",
              "<table border=\"1\" class=\"dataframe\">\n",
              "  <thead>\n",
              "    <tr style=\"text-align: right;\">\n",
              "      <th></th>\n",
              "      <th>text</th>\n",
              "      <th>Text_Var</th>\n",
              "    </tr>\n",
              "  </thead>\n",
              "  <tbody>\n",
              "    <tr>\n",
              "      <th>1</th>\n",
              "      <td>RT @wilw NBC reporting suspect alive and in custody. CNN reporting that Quint, Sheriff Brody, unknown bearded man (poss terrorist?) still on boat.</td>\n",
              "      <td>NBC reporting suspect alive and in custody. CNN reporting that Quint, Sheriff Brody, unknown bearded man (poss terrorist?) still on boat.</td>\n",
              "    </tr>\n",
              "    <tr>\n",
              "      <th>2</th>\n",
              "      <td>#BostonMararthon suspect Dzhokhar Tsarnaev is in custody http://t.co/ubNR5Lreqv http://t.co/ax7bDCIXRH</td>\n",
              "      <td>#BostonMararthon suspect Dzhokhar Tsarnaev is in custody</td>\n",
              "    </tr>\n",
              "    <tr>\n",
              "      <th>6</th>\n",
              "      <td>RT @BreitbartNews Margaret Thatcher Remembered America in the Midst of Terror: President Barack Obama is fond of challenging Ame... http://t.co/3kdeg3ooAv</td>\n",
              "      <td>Margaret Thatcher Remembered America in the Midst of Terror: President Barack Obama is fond of challenging Ame...</td>\n",
              "    </tr>\n",
              "    <tr>\n",
              "      <th>15</th>\n",
              "      <td>Spontaneous celebrations in streets of #Watertown #Boston. This is how my 91 yr old Dad describes V-E Day. One battle in War on Terror won.</td>\n",
              "      <td>Spontaneous celebrations in streets of #Watertown #Boston. This is how my 91 yr old Dad describes V-E Day. One battle in War on Terror won.</td>\n",
              "    </tr>\n",
              "    <tr>\n",
              "      <th>25</th>\n",
              "      <td>#Bostonsgigs Looking for someone for dishwasher install (Charlestown, Ma) http://t.co/BJQpvI5MfQ #Boston</td>\n",
              "      <td>#Bostonsgigs Looking for someone for dishwasher install (Charlestown, Ma)  #Boston</td>\n",
              "    </tr>\n",
              "    <tr>\n",
              "      <th>27</th>\n",
              "      <td>Suspect #2 is in custody.. Putting him in the ambulance #Boston #watertown</td>\n",
              "      <td>Suspect #2 is in custody.. Putting him in the ambulance #Boston #watertown</td>\n",
              "    </tr>\n",
              "    <tr>\n",
              "      <th>28</th>\n",
              "      <td>#Job #Cambridge Secret shopper position: Boston Dear Shoppers! We are accepting applications from qualified in... http://t.co/i7N4HWSH2L</td>\n",
              "      <td>#Job #Cambridge Secret shopper position: Boston Dear Shoppers! We are accepting applications from qualified in...</td>\n",
              "    </tr>\n",
              "    <tr>\n",
              "      <th>37</th>\n",
              "      <td>Boston bombs a ?sophisticated? attack http://t.co/50BTutzAR9</td>\n",
              "      <td>Boston bombs a ?sophisticated? attack</td>\n",
              "    </tr>\n",
              "    <tr>\n",
              "      <th>42</th>\n",
              "      <td>RT @seankerrigan21 Let's not forget what makes this such a great country: things like due process &amp; innocence until proven guilty. #watertown #bostonstrong</td>\n",
              "      <td>Let's not forget what makes this such a great country: things like due process &amp; innocence until proven guilty. #watertown #bostonstrong</td>\n",
              "    </tr>\n",
              "    <tr>\n",
              "      <th>44</th>\n",
              "      <td>RT @MattBinder If they never find Dzhokhar Tsarnaev, does Boston just shut down forever?</td>\n",
              "      <td>If they never find Dzhokhar Tsarnaev, does Boston just shut down forever?</td>\n",
              "    </tr>\n",
              "    <tr>\n",
              "      <th>48</th>\n",
              "      <td>RT @susantran There's an explosion just now in #Watertown.</td>\n",
              "      <td>There's an explosion just now in #Watertown.</td>\n",
              "    </tr>\n",
              "    <tr>\n",
              "      <th>52</th>\n",
              "      <td>Did they ever confirm if it was a terrorist attack ?</td>\n",
              "      <td>Did they ever confirm if it was a terrorist attack ?</td>\n",
              "    </tr>\n",
              "    <tr>\n",
              "      <th>54</th>\n",
              "      <td>@Nellexo96 okay, as long as you don't give me a damn heart attack ?</td>\n",
              "      <td>okay, as long as you don't give me a damn heart attack ?</td>\n",
              "    </tr>\n",
              "    <tr>\n",
              "      <th>57</th>\n",
              "      <td>@StephDillon3 I'm bouta get in tower of terror for the second time MISS YA THO</td>\n",
              "      <td>I'm bouta get in tower of terror for the second time MISS YA THO</td>\n",
              "    </tr>\n",
              "    <tr>\n",
              "      <th>61</th>\n",
              "      <td>Ya just want him dead now RT @fox25news: Dzhokhar Tsarnaev, Suspect No. 2 in Marathon bombings, in (cont) http://t.co/TNHXIPOWqT</td>\n",
              "      <td>Ya just want him dead now : Dzhokhar Tsarnaev, Suspect No. 2 in Marathon bombings, in (cont)</td>\n",
              "    </tr>\n",
              "  </tbody>\n",
              "</table>\n",
              "</div>"
            ],
            "text/plain": [
              "                                                                                                                                                           text  \\\n",
              "1   RT @wilw NBC reporting suspect alive and in custody. CNN reporting that Quint, Sheriff Brody, unknown bearded man (poss terrorist?) still on boat.            \n",
              "2   #BostonMararthon suspect Dzhokhar Tsarnaev is in custody http://t.co/ubNR5Lreqv http://t.co/ax7bDCIXRH                                                        \n",
              "6   RT @BreitbartNews Margaret Thatcher Remembered America in the Midst of Terror: President Barack Obama is fond of challenging Ame... http://t.co/3kdeg3ooAv    \n",
              "15  Spontaneous celebrations in streets of #Watertown #Boston. This is how my 91 yr old Dad describes V-E Day. One battle in War on Terror won.                   \n",
              "25  #Bostonsgigs Looking for someone for dishwasher install (Charlestown, Ma) http://t.co/BJQpvI5MfQ #Boston                                                      \n",
              "27  Suspect #2 is in custody.. Putting him in the ambulance #Boston #watertown                                                                                    \n",
              "28  #Job #Cambridge Secret shopper position: Boston Dear Shoppers! We are accepting applications from qualified in... http://t.co/i7N4HWSH2L                      \n",
              "37  Boston bombs a ?sophisticated? attack http://t.co/50BTutzAR9                                                                                                  \n",
              "42  RT @seankerrigan21 Let's not forget what makes this such a great country: things like due process & innocence until proven guilty. #watertown #bostonstrong   \n",
              "44  RT @MattBinder If they never find Dzhokhar Tsarnaev, does Boston just shut down forever?                                                                      \n",
              "48  RT @susantran There's an explosion just now in #Watertown.                                                                                                    \n",
              "52  Did they ever confirm if it was a terrorist attack ?                                                                                                          \n",
              "54  @Nellexo96 okay, as long as you don't give me a damn heart attack ?                                                                                           \n",
              "57  @StephDillon3 I'm bouta get in tower of terror for the second time MISS YA THO                                                                                \n",
              "61  Ya just want him dead now RT @fox25news: Dzhokhar Tsarnaev, Suspect No. 2 in Marathon bombings, in (cont) http://t.co/TNHXIPOWqT                              \n",
              "\n",
              "                                                                                                                                       Text_Var  \n",
              "1    NBC reporting suspect alive and in custody. CNN reporting that Quint, Sheriff Brody, unknown bearded man (poss terrorist?) still on boat.   \n",
              "2   #BostonMararthon suspect Dzhokhar Tsarnaev is in custody                                                                                     \n",
              "6    Margaret Thatcher Remembered America in the Midst of Terror: President Barack Obama is fond of challenging Ame...                           \n",
              "15  Spontaneous celebrations in streets of #Watertown #Boston. This is how my 91 yr old Dad describes V-E Day. One battle in War on Terror won.  \n",
              "25  #Bostonsgigs Looking for someone for dishwasher install (Charlestown, Ma)  #Boston                                                           \n",
              "27  Suspect #2 is in custody.. Putting him in the ambulance #Boston #watertown                                                                   \n",
              "28  #Job #Cambridge Secret shopper position: Boston Dear Shoppers! We are accepting applications from qualified in...                            \n",
              "37  Boston bombs a ?sophisticated? attack                                                                                                        \n",
              "42   Let's not forget what makes this such a great country: things like due process & innocence until proven guilty. #watertown #bostonstrong    \n",
              "44   If they never find Dzhokhar Tsarnaev, does Boston just shut down forever?                                                                   \n",
              "48   There's an explosion just now in #Watertown.                                                                                                \n",
              "52  Did they ever confirm if it was a terrorist attack ?                                                                                         \n",
              "54   okay, as long as you don't give me a damn heart attack ?                                                                                    \n",
              "57   I'm bouta get in tower of terror for the second time MISS YA THO                                                                            \n",
              "61  Ya just want him dead now : Dzhokhar Tsarnaev, Suspect No. 2 in Marathon bombings, in (cont)                                                 "
            ]
          },
          "metadata": {
            "tags": []
          },
          "execution_count": 124
        }
      ]
    },
    {
      "cell_type": "code",
      "metadata": {
        "id": "lVHZBp6dG80R"
      },
      "source": [
        "replacements_dict = {\"'cause\": \"because\",\n",
        "\"'tis\": \"it is\",\n",
        "\"'twas\": \"it was\",\n",
        "\"ain't\": \"are not\",\n",
        "\"amn't\": \"am not\",\n",
        "\"aren't\": \"are not\",\n",
        "\"can't've\": \"can not have\",\n",
        "\"can't\": \"can not\",\n",
        "\"could've\": \"could have\",\n",
        "\"couldn't've\": \"could not have\",\n",
        "\"couldn't\": \"could not\",\n",
        "\"daren't\": \"dare not\",\n",
        "\"daresn't\": \"dare not\",\n",
        "\"dasn't\": \"dare not\",\n",
        "\"didn't\": \"did not\",\n",
        "\"didn’t\": \"did not\",\n",
        "\"doesn't\": \"does not\",\n",
        "\"don't\": \"do not\",\n",
        "\"don’t\": \"do not\",\n",
        "\"e'er\": \"ever\",\n",
        "\"everyone's\": \"everyone is\",\n",
        "\"finna\": \"fixing to\",\n",
        "\"gimme\": \"give me\",\n",
        "\"gon't\": \"go not\",\n",
        "\"gonna\": \"going to\",\n",
        "\"gotta\": \"got to\",\n",
        "\"hadn't've\": \"had not have\",\n",
        "\"hadn't\": \"had not\",\n",
        "\"hasn't\": \"has not\",\n",
        "\"haven't\": \"have not\",\n",
        "\"he'd've\": \"he would have\",\n",
        "\"he'd\": \"he would\",\n",
        "\"he'll've\": \"he will have\",\n",
        "\"he'll\": \"he will\",\n",
        "\"he's\": \"he is\",\n",
        "\"he've\": \"he have\",\n",
        "\"here's\": \"here is\",\n",
        "\"how'd'y\": \"how do you\",\n",
        "\"how'd\": \"how did\",\n",
        "\"how'll\": \"how will\",\n",
        "\"how're\": \"how are\",\n",
        "\"how's\": \"how is\",\n",
        "\"i'd've\": \"i would have\",\n",
        "\"i'd\": \"i would\",\n",
        "\"i'll've\": \"i will have\",\n",
        "\"i'll\": \"i will\",\n",
        "\"i'm'a\": \"i am about to\",\n",
        "\"i'm'o\": \"i am going to\",\n",
        "\"i'm\": \"i am\",\n",
        "\"i've\": \"i have\",\n",
        "\"isn't\": \"is not\",\n",
        "\"it'd've\": \"it would have\",\n",
        "\"it'd\": \"it would\",\n",
        "\"it'll've\": \"it will have\",\n",
        "\"it'll\": \"it will\",\n",
        "\"it's\": \"it is\",\n",
        "\"kinda\": \"kind of\",\n",
        "\"let's\": \"let us\",\n",
        "\"luv\": \"love\",\n",
        "\"ma'am\": \"madam\",\n",
        "\"may've\": \"may have\",\n",
        "\"mayn't\": \"may not\",\n",
        "\"might've\": \"might have\",\n",
        "\"mightn't've\": \"might not have\",\n",
        "\"mightn't\": \"might not\",\n",
        "\"must've\": \"must have\",\n",
        "\"mustn't've\": \"must not have\",\n",
        "\"mustn't\": \"must not\",\n",
        "\"ne'er\": \"never\",\n",
        "\"needn't've\": \"need not have\",\n",
        "\"needn't\": \"need not\",\n",
        "\"o'\": \"of\",\n",
        "\"o'clock\": \"of the clock\",\n",
        "\"o'er\": \"over\",\n",
        "\"ol'\": \"old\",\n",
        "\"oughtn't've\": \"ought not have\",\n",
        "\"oughtn't\": \"ought not\",\n",
        "\"sha'n't\": \"shall not\",\n",
        "\"shalln't\": \"shall not\",\n",
        "\"shan't've\": \"shall not have\",\n",
        "\"shan't\": \"shall not\",\n",
        "\"she'd've\": \"she would have\",\n",
        "\"she'd\": \"she would\",\n",
        "\"she'll\": \"she will\",\n",
        "\"she's\": \"she is\",\n",
        "\"should've\": \"should have\",\n",
        "\"shouldn't've\": \"should not have\",\n",
        "\"shouldn't\": \"should not\",\n",
        "\"so's\": \"so is\",\n",
        "\"so've\": \"so have\",\n",
        "\"somebody's\": \"somebody is\",\n",
        "\"someone's\": \"someone is\",\n",
        "\"something's\": \"something is\",\n",
        "\"that'd've\": \"that would have\",\n",
        "\"that'd\": \"that would\",\n",
        "\"that'll\": \"that will\",\n",
        "\"that're\": \"that are\",\n",
        "\"that's\": \"that is\",\n",
        "\"there'd've\": \"there would have\",\n",
        "\"there'd\": \"there would\",\n",
        "\"there'll\": \"there will\",\n",
        "\"there're\": \"there are\",\n",
        "\"there's\": \"there is\",\n",
        "\"these're\": \"these are\",\n",
        "\"they'd've\": \"they would have\",\n",
        "\"they'd\": \"they would\",\n",
        "\"they'll've\": \"they will have\",\n",
        "\"they'll\": \"they will\",\n",
        "\"they're\": \"they are\",\n",
        "\"they've\": \"they have\",\n",
        "\"this's\": \"this is\",\n",
        "\"those're\": \"those are\",\n",
        "\"to've\": \"to have\",\n",
        "\"wanna\": \"want to\",\n",
        "\"wasn't\": \"was not\",\n",
        "\"we'd've\": \"we would have\",\n",
        "\"we'd\": \"we would\",\n",
        "\"we'll've\": \"we will have\",\n",
        "\"we'll\": \"we will\",\n",
        "\"we're\": \"we are\",\n",
        "\"we've\": \"we have\",\n",
        "\"weren't\": \"were not\",\n",
        "\"what'd\": \"what did\",\n",
        "\"what'll've\": \"what will have\",\n",
        "\"what'll\": \"what will\",\n",
        "\"what're\": \"what are\",\n",
        "\"what's\": \"what is\",\n",
        "\"what've\": \"what have\",\n",
        "\"whatcha\": \"what are you\",\n",
        "\"when's\": \"when is\",\n",
        "\"when've\": \"when have\",\n",
        "\"where'd\": \"where did\",\n",
        "\"where're\": \"where are\",\n",
        "\"where's\": \"where is\",\n",
        "\"where've\": \"where have\",\n",
        "\"which's\": \"which is\",\n",
        "\"who'd've\": \"who would have\",\n",
        "\"who'd\": \"who would\",\n",
        "\"who'll've\": \"who will have\",\n",
        "\"who'll\": \"who will\",\n",
        "\"who're\": \"who are\",\n",
        "\"who's\": \"who is\",\n",
        "\"who've\": \"who have\",\n",
        "\"why'd\": \"why did\",\n",
        "\"why're\": \"why are\",\n",
        "\"why's\": \"why is\",\n",
        "\"why've\": \"why have\",\n",
        "\"will've\": \"will have\",\n",
        "\"won't've\": \"will not have\",\n",
        "\"won't\": \"will not\",\n",
        "\"would've\": \"would have\",\n",
        "\"wouldn't've\": \"would not have\",\n",
        "\"wouldn't\": \"would not\",\n",
        "\"y'all'd've\": \"you all would have\",\n",
        "\"y'all'd\": \"you all would\",\n",
        "\"y'all're\": \"you all are\",\n",
        "\"y'all've\": \"you all have\",\n",
        "\"y'all\": \"you all\",\n",
        "\"you'd've\": \"you would have\",\n",
        "\"you'd\": \"you would\",\n",
        "\"you'll've\": \"you shall have\",\n",
        "\"you'll\": \"you will\",\n",
        "\"you're\": \"you are\",\n",
        "\"you've\": \"you have\",\n",
        "\"([a-z]+)'(s)\": \"\\1\",\n",
        "'rt @': '@',\n",
        "'https?://\\S+|www\\.\\S+': '',\n",
        "'(?<=)@\\w+': '',\n",
        "'([a-z]+\\d+[a-z]+\\d+[a-z]+)|(\\d+[a-z]+\\d+[a-z]+\\d+)|([a-z]+\\d+[a-z]+\\d+)|(\\d+[a-z]+\\d+[a-z]+)|(\\d+[a-z]+\\d+)|([a-z]+\\d+[a-z]+)|([a-z]+\\d+)|(\\d+[a-z]+)|\\d+': '',\n",
        "'jobs': 'job'}"
      ],
      "execution_count": 329,
      "outputs": []
    },
    {
      "cell_type": "code",
      "metadata": {
        "id": "UjeUlPduNvIi"
      },
      "source": [
        ""
      ],
      "execution_count": null,
      "outputs": []
    }
  ]
}